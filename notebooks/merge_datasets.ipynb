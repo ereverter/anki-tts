{
 "cells": [
  {
   "cell_type": "code",
   "execution_count": 7,
   "metadata": {},
   "outputs": [],
   "source": [
    "import pandas as pd\n",
    "\n",
    "file_path = '../data/raw/yohablo.txt'\n",
    "\n",
    "# Initialize a list to store the data\n",
    "data = []\n",
    "\n",
    "# Read and process the file\n",
    "with open(file_path, 'r', encoding='utf-8') as file:\n",
    "    for line in file:\n",
    "        french, spanish = line.strip().split('\\t')  # Ensure the separator is correct\n",
    "        data.append({'french': french.strip(), 'spanish': spanish})\n",
    "\n",
    "# Create a DataFrame from the list\n",
    "csv_df = pd.DataFrame(data)"
   ]
  },
  {
   "cell_type": "code",
   "execution_count": 8,
   "metadata": {},
   "outputs": [
    {
     "name": "stdout",
     "output_type": "stream",
     "text": [
      "    french  spanish\n",
      "0   ancien  antiguo\n",
      "1    autre     otro\n",
      "2     beau   bonito\n",
      "3  bizarre  estraño\n",
      "4    blanc   blanco\n"
     ]
    }
   ],
   "source": [
    "import os\n",
    "\n",
    "# Convert 'french' and 'spanish' columns to lowercase in csv_df\n",
    "csv_df['french'] = csv_df['french'].str.lower()\n",
    "csv_df['spanish'] = csv_df['spanish'].str.lower()\n",
    "\n",
    "# Load and parse the TXT file\n",
    "txt_file = '../data/exported/deck_fr_500.txt'\n",
    "txt_data = []\n",
    "with open(txt_file, 'r', encoding='utf-8') as file:\n",
    "    for line in file:\n",
    "        spanish, french = line.strip().split('\\t')\n",
    "        # Extract the French word without the sound information and convert to lowercase\n",
    "        french_word = french.split(' [sound:')[0].strip().lower()\n",
    "        spanish_word = spanish.lower()  # Convert Spanish word to lowercase\n",
    "        txt_data.append([french_word, spanish_word])\n",
    "\n",
    "txt_df = pd.DataFrame(txt_data, columns=['french', 'spanish'])\n",
    "\n",
    "# Merge the dataframes, ensuring no duplicate French words (considering case insensitivity)\n",
    "merged_df = pd.concat([csv_df, txt_df]).drop_duplicates(subset='french', keep='first').reset_index(drop=True)\n",
    "\n",
    "# Merged DataFrame\n",
    "print(merged_df.head())\n",
    "\n",
    "# Ensure the folder exists\n",
    "os.makedirs('../data/processed', exist_ok=True)\n",
    "merged_df.to_csv('../data/processed/fr_es_words.csv', index=False)"
   ]
  }
 ],
 "metadata": {
  "kernelspec": {
   "display_name": "general",
   "language": "python",
   "name": "python3"
  },
  "language_info": {
   "codemirror_mode": {
    "name": "ipython",
    "version": 3
   },
   "file_extension": ".py",
   "mimetype": "text/x-python",
   "name": "python",
   "nbconvert_exporter": "python",
   "pygments_lexer": "ipython3",
   "version": "3.11.5"
  }
 },
 "nbformat": 4,
 "nbformat_minor": 2
}
